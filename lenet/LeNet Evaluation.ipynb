{
  "cells": [
    {
      "cell_type": "code",
      "execution_count": 104,
      "metadata": {
        "id": "WhJlgAHsWlyk"
      },
      "outputs": [],
      "source": [
        "# importng the libraries\n",
        "import torch\n",
        "import torch.nn as nn\n",
        "import torch.optim as optim\n",
        "import torch.nn.functional as F\n",
        "from torch.utils.data import DataLoader\n",
        "import torchvision.datasets as datasets\n",
        "import torchvision.transforms as transforms\n",
        "import torchvision\n",
        "import os\n",
        "\n",
        "# importing our LeNet Model\n",
        "from LeNet import LeNet"
      ]
    },
    {
      "cell_type": "code",
      "execution_count": 113,
      "metadata": {
        "id": "uL8jrQjNXPwQ"
      },
      "outputs": [],
      "source": [
        "# defining the transforms to be made\n",
        "transformations=transforms.Compose(\n",
        "    [\n",
        "     transforms.Pad(padding=2,fill=0,padding_mode='constant'),\n",
        "     transforms.ToTensor(),\n",
        "     transforms.Normalize((0.1307,), (0.3081,))\n",
        "     ]\n",
        "    )"
      ]
    },
    {
      "cell_type": "code",
      "execution_count": 114,
      "metadata": {
        "id": "VZ4U22FfJOfj"
      },
      "outputs": [],
      "source": [
        "# loading the training data\n",
        "trainset = torchvision.datasets.MNIST(root='./data', train=True, download=True,transform=transformations)\n",
        "trainloader = torch.utils.data.DataLoader(trainset, batch_size=64, shuffle=True)"
      ]
    },
    {
      "cell_type": "code",
      "execution_count": 115,
      "metadata": {
        "id": "hLTf54fPLROs"
      },
      "outputs": [],
      "source": [
        "# loading the test data\n",
        "testset=torchvision.datasets.MNIST(root='./data',train=False,download=True,transform=transformations)\n",
        "testloader=torch.utils.data.DataLoader(testset,batch_size=64,shuffle=True)"
      ]
    },
    {
      "cell_type": "code",
      "execution_count": 116,
      "metadata": {
        "id": "27n5BVh_O-Dn"
      },
      "outputs": [],
      "source": [
        "# definfing the model\n",
        "model=LeNet()\n",
        "# definging the optimzer\n",
        "optimizer=optim.Adam(model.parameters(),lr=0.001)\n",
        "# definfing the loss function\n",
        "loss_func=nn.CrossEntropyLoss()"
      ]
    },
    {
      "cell_type": "code",
      "execution_count": 118,
      "metadata": {
        "colab": {
          "base_uri": "https://localhost:8080/"
        },
        "id": "qiB4LiQtPgvl",
        "outputId": "fa7d8f1a-13b8-4374-97af-d247a859086b"
      },
      "outputs": [
        {
          "name": "stdout",
          "output_type": "stream",
          "text": [
            "Epoch 1\t Accuracy:0.974\n",
            "Epoch 2\t Accuracy:0.9837\n",
            "Epoch 3\t Accuracy:0.9833\n",
            "Epoch 4\t Accuracy:0.9878\n",
            "Epoch 5\t Accuracy:0.9882\n"
          ]
        }
      ],
      "source": [
        "# training the model\n",
        "num_epochs=5\n",
        "for epoch in range(num_epochs):\n",
        "\n",
        "  for batch_idx,(data,target) in enumerate(trainloader):\n",
        "\n",
        "    # each batch starts from fresh gradients so zeroing out the gradient for each batch\n",
        "    optimizer.zero_grad()\n",
        "    # forward prop\n",
        "    outputs=model(data)\n",
        "    # calculating the loss\n",
        "    loss=loss_func(outputs,target)\n",
        "    # backprop\n",
        "    loss.backward()\n",
        "    # updating the parameters\n",
        "    optimizer.step()\n",
        "\n",
        "  print(f\"Epoch {epoch+1}\\t Accuracy:{model.evaluate(testloader)}\")\n"
      ]
    },
    {
      "cell_type": "code",
      "execution_count": null,
      "metadata": {
        "id": "et8Vgt72WHWp"
      },
      "outputs": [],
      "source": []
    }
  ],
  "metadata": {
    "colab": {
      "provenance": []
    },
    "kernelspec": {
      "display_name": "Python 3",
      "name": "python3"
    },
    "language_info": {
      "name": "python"
    }
  },
  "nbformat": 4,
  "nbformat_minor": 0
}
