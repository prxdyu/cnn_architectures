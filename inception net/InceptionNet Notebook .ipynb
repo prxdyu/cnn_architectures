{
  "nbformat": 4,
  "nbformat_minor": 0,
  "metadata": {
    "colab": {
      "provenance": []
    },
    "kernelspec": {
      "name": "python3",
      "display_name": "Python 3"
    },
    "language_info": {
      "name": "python"
    }
  },
  "cells": [
    {
      "cell_type": "code",
      "execution_count": 21,
      "metadata": {
        "id": "29mrPimSWepB"
      },
      "outputs": [],
      "source": [
        "import torch\n",
        "import torch.nn as nn"
      ]
    },
    {
      "cell_type": "code",
      "source": [
        "# creating a convolution block which creates ConvLayers\n",
        "class conv_block(nn.Module):\n",
        "\n",
        "  def __init__(self,in_channels,out_channels,**kwargs):\n",
        "    super(conv_block,self).__init__()\n",
        "    self.conv=nn.Conv2d(in_channels,out_channels,**kwargs)\n",
        "    self.relu=nn.ReLU()\n",
        "    self.batchnorm=nn.BatchNorm2d(out_channels)\n",
        "\n",
        "  def forward(self,x):\n",
        "    x=self.batchnorm(self.relu(self.conv(x)))\n",
        "    return x"
      ],
      "metadata": {
        "id": "lHRGlAjeWjt2"
      },
      "execution_count": 22,
      "outputs": []
    },
    {
      "cell_type": "markdown",
      "source": [
        "\n",
        "<img src='https://miro.medium.com/v2/resize:fit:1100/format:webp/1*U_McJnp7Fnif-lw9iIC5Bw.png' height=300>"
      ],
      "metadata": {
        "id": "WWLUbRdxZrU_"
      }
    },
    {
      "cell_type": "code",
      "source": [
        "class InceptionBlock(nn.Module):\n",
        "\n",
        "  def __init__(self,in_channels,out_1x1,reduce_3x3,out_3x3,reduce_5x5,out_5x5,out_1x1_branch4):\n",
        "    super(InceptionBlock,self).__init__()\n",
        "\n",
        "    # branch1\n",
        "    self.branch1=conv_block(in_channels,out_1x1,kernel_size=1)\n",
        "    # branch2  (1x1 => 3x3)\n",
        "    self.branch2=nn.Sequential(conv_block(in_channels,reduce_3x3,kernel_size=1),\n",
        "                               conv_block(reduce_3x3,out_3x3,kernel_size=3,padding=1))\n",
        "    # branch3 (1x1 => 5x5 )\n",
        "    self.branch3=nn.Sequential(conv_block(in_channels,reduce_5x5,kernel_size=1),\n",
        "                               conv_block(reduce_5x5,out_5x5,kernel_size=5,padding=2))\n",
        "    # branch4 (3x3pool => 1x1)\n",
        "    self.branch4=nn.Sequential(nn.MaxPool2d(kernel_size=3,padding=1,stride=1),\n",
        "                               conv_block(in_channels,out_1x1_branch4,kernel_size=1))\n",
        "\n",
        "  def forward(self,x):\n",
        "    # forward prop through 4 branches and concatenating the outputs along filter dimension\n",
        "    # batches X (filters/channels) X 28 X 28\n",
        "    concatenated=torch.cat([self.branch1(x),self.branch2(x),self.branch3(x),self.branch4(x)],dim=1)\n",
        "    return concatenated"
      ],
      "metadata": {
        "id": "mrlieXQbYEHv"
      },
      "execution_count": 23,
      "outputs": []
    },
    {
      "cell_type": "code",
      "source": [
        "class InceptionNet(nn.Module):\n",
        "\n",
        "  def __init__(self,in_channels=3,num_classes=1000):\n",
        "    super(InceptionNet,self).__init__()\n",
        "\n",
        "    self.in_channels=in_channels\n",
        "    self.num_classes=num_classes\n",
        "\n",
        "    self.conv1=conv_block(in_channels=in_channels,out_channels=64,kernel_size=7,stride=2,padding=3)\n",
        "    self.maxpool1=nn.MaxPool2d(kernel_size=3,stride=2,padding=1)\n",
        "    self.conv2=conv_block(in_channels=64,out_channels=192,kernel_size=3,stride=1,padding=1)\n",
        "    self.maxpool2=nn.MaxPool2d(kernel_size=3,stride=2,padding=1)\n",
        "\n",
        "    # inception_block 3a     # refer table in the paper for the below arguments\n",
        "    self.inception_3a=InceptionBlock(in_channels=192,out_1x1=64,reduce_3x3=96,out_3x3=128,reduce_5x5=16,out_5x5=32,out_1x1_branch4=32)\n",
        "    # inception block 3b\n",
        "    self.inception_3b=InceptionBlock(256,128,128,192,32,96,64)\n",
        "\n",
        "    self.maxpool3=nn.MaxPool2d(kernel_size=3,stride=2,padding=1)\n",
        "\n",
        "    # inception block 4a\n",
        "    self.inception_4a=InceptionBlock(480,192,96,208,16,48,64)\n",
        "    # inception block 4b\n",
        "    self.inception_4b=InceptionBlock(512,160,128,192,32,96,64)\n",
        "    # inception block 4c\n",
        "    self.inception_4c=InceptionBlock(512,128,128,256,24,64,64)\n",
        "    # inception block 4d\n",
        "    self.inception_4d=InceptionBlock(512,112,144,288,32,64,64)\n",
        "    # inception block 4e\n",
        "    self.inception_4e=InceptionBlock(528,256,160,320,32,128,128)\n",
        "\n",
        "    self.maxpool4=nn.MaxPool2d(kernel_size=3,stride=2,padding=1)\n",
        "\n",
        "    # inception block 5a\n",
        "    self.inception_5a=InceptionBlock(832,256,160,320,32,128,128)\n",
        "    # inception block 5b\n",
        "    self.inception_5b=InceptionBlock(832,384,192,384,48,128,128)\n",
        "\n",
        "    self.avgpool=nn.AvgPool2d(kernel_size=7,stride=1)\n",
        "    self.dropout=nn.Dropout(p=0.4)\n",
        "    self.fc1=nn.Linear(1024,1000)\n",
        "\n",
        "\n",
        "  def forward(self,x):\n",
        "\n",
        "    x=self.conv1(x)\n",
        "    x=self.maxpool1(x)\n",
        "    x=self.conv2(x)\n",
        "    x=self.maxpool2(x)\n",
        "\n",
        "    x=self.inception_3a(x)\n",
        "    x=self.inception_3b(x)\n",
        "    x=self.maxpool3(x)\n",
        "\n",
        "    x=self.inception_4a(x)\n",
        "    x=self.inception_4b(x)\n",
        "    x=self.inception_4c(x)\n",
        "    x=self.inception_4d(x)\n",
        "    x=self.inception_4e(x)\n",
        "    x=self.maxpool4(x)\n",
        "\n",
        "    x=self.inception_5a(x)\n",
        "    x=self.inception_5b(x)\n",
        "    x=self.avgpool(x)\n",
        "    x=self.dropout(x)\n",
        "    x = torch.flatten(x, 1)\n",
        "    x=self.fc1(x)\n",
        "\n",
        "    return x"
      ],
      "metadata": {
        "id": "3Qw1WVIGgRan"
      },
      "execution_count": 24,
      "outputs": []
    },
    {
      "cell_type": "markdown",
      "source": [
        "Evaluation"
      ],
      "metadata": {
        "id": "ZUKbrLj0VTbC"
      }
    },
    {
      "cell_type": "code",
      "source": [
        "# creating a random image(tensor)\n",
        "x=torch.randn(1,3,224,224)\n",
        "# passing it to the model\n",
        "model=InceptionNet()\n",
        "# checking the shape of the output (the output of the model must be a 1000-d vector since we architected for 1000 class classification task)\n",
        "model(x).shape"
      ],
      "metadata": {
        "colab": {
          "base_uri": "https://localhost:8080/"
        },
        "id": "3bIe1_lfbKrW",
        "outputId": "b12ce2eb-7716-4264-9843-1b2700640a0b"
      },
      "execution_count": 26,
      "outputs": [
        {
          "output_type": "execute_result",
          "data": {
            "text/plain": [
              "torch.Size([1, 1000])"
            ]
          },
          "metadata": {},
          "execution_count": 26
        }
      ]
    }
  ]
}